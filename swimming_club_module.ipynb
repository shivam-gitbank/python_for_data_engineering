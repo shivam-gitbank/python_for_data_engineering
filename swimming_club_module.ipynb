{
 "cells": [
  {
   "cell_type": "code",
   "execution_count": 0,
   "metadata": {
    "application/vnd.databricks.v1+cell": {
     "cellMetadata": {
      "byteLimit": 2048000,
      "rowLimit": 10000
     },
     "inputWidgets": {},
     "nuid": "3e6442b6-68e6-4292-97b2-02bdf7264ac2",
     "showTitle": false,
     "tableResultSettingsMap": {},
     "title": ""
    }
   },
   "outputs": [],
   "source": [
    "def prepare_deck():\n",
    "    #list declaration \n",
    "    suits = [\"Heart\",\"Spade\",\"Diamond\",\"Clubs\"] # list called suits contains the suits in a standard card deck \n",
    "    Face = [\"Joker\",\"Queen\",\"King\",\"Ace\"] # list of face cards in a deck \n",
    "    numbered = [2,3,4,5,6,7,8,9,10] # updated to the list of numbers \n",
    "    \n",
    "    # lastly the numbered cards , initally i set the list to be integers but that failed during concatination \n",
    "    # the deck is considred as a set data structure to prevent duplicates\n",
    "\n",
    "    the_deck = set()\n",
    "    for suit in suits:\n",
    "        # inside loop to populate the deck with the correct suits and cards \n",
    "        for card in Face+numbered:\n",
    "            the_card = (card,\"of\",suit) #do not support multiple types to be merged together concatination of different data types not allowed \n",
    "            # here i use the + (string concatiation) which is why when i had the list of numbered it failed to concat them , but when i use (,) it works \n",
    "            # and also recognize the result as a tuple because of the (,) included in the (the_card)vaiable \n",
    "            if the_card in the_deck:\n",
    "                exit\n",
    "            the_deck.add(the_card) \n",
    "\n",
    "    return the_deck #returns the set as is "
   ]
  },
  {
   "cell_type": "code",
   "execution_count": 0,
   "metadata": {
    "application/vnd.databricks.v1+cell": {
     "cellMetadata": {
      "byteLimit": 2048000,
      "rowLimit": 10000
     },
     "inputWidgets": {},
     "nuid": "4f00a29b-225e-452b-b4fe-7fe9b0cfae2c",
     "showTitle": false,
     "tableResultSettingsMap": {},
     "title": ""
    }
   },
   "outputs": [],
   "source": [
    "import random\n",
    "deck = list(prepare_deck()) #converting the deck into a list so that random function can work on the index as set do not have an index\n",
    "for _ in range(5):\n",
    "    the_card = random.choice(deck)\n",
    "    print(the_card)\n",
    "    deck.remove(the_card)\n",
    "# works now and also due to the (,) seperation the result is now considred as a tuple ( earlier was string concatiaion )"
   ]
  },
  {
   "cell_type": "code",
   "execution_count": 0,
   "metadata": {
    "application/vnd.databricks.v1+cell": {
     "cellMetadata": {
      "byteLimit": 2048000,
      "rowLimit": 10000
     },
     "inputWidgets": {},
     "nuid": "ee16eeaa-0728-4652-9d36-2deb224d017b",
     "showTitle": false,
     "tableResultSettingsMap": {},
     "title": ""
    }
   },
   "outputs": [],
   "source": [
    "#palandrome code for testing \n",
    "palan = input(\"Enter str\")\n",
    "\n",
    "for i in range(len(palan)):\n",
    "    if palan[i] != palan[-(i+1)]: # negative index to access the last element to compare it with the first \n",
    "     print(\" NOt a palandrome\")\n",
    "     break\n",
    "else:\n",
    "    # this is not if else ( else ) statement rather python has its own build in else for ( For and While) loops its diff form the conditional else statement\n",
    "    print(\"Palandrome\")\n"
   ]
  },
  {
   "cell_type": "code",
   "execution_count": 0,
   "metadata": {
    "application/vnd.databricks.v1+cell": {
     "cellMetadata": {
      "byteLimit": 2048000,
      "rowLimit": 10000
     },
     "inputWidgets": {},
     "nuid": "088e65b3-5ca7-430a-922a-a62eadbf1207",
     "showTitle": false,
     "tableResultSettingsMap": {},
     "title": ""
    }
   },
   "outputs": [],
   "source": [
    "import pyspark\n",
    "dir(pyspark)"
   ]
  },
  {
   "cell_type": "code",
   "execution_count": 0,
   "metadata": {
    "application/vnd.databricks.v1+cell": {
     "cellMetadata": {
      "byteLimit": 2048000,
      "rowLimit": 10000
     },
     "inputWidgets": {},
     "nuid": "1e0f9225-f3ac-443a-916d-b5677d168ec0",
     "showTitle": false,
     "tableResultSettingsMap": {},
     "title": ""
    }
   },
   "outputs": [],
   "source": [
    "from pyspark import dbutils\n",
    "print(dir(dbutils)) # the dir function prints the all the functions or methods associated with the object \n",
    "help(dbutils.Optional) # gives out python documentation for the method when coupled with the object ( example :- set.add) \n"
   ]
  }
 ],
 "metadata": {
  "application/vnd.databricks.v1+notebook": {
   "computePreferences": {
    "hardware": {
     "accelerator": null,
     "gpuPoolId": null,
     "memory": null
    }
   },
   "dashboards": [],
   "environmentMetadata": {
    "base_environment": "",
    "environment_version": "3"
   },
   "inputWidgetPreferences": null,
   "language": "python",
   "notebookMetadata": {
    "pythonIndentUnit": 4
   },
   "notebookName": "swimming_club_module",
   "widgets": {}
  },
  "language_info": {
   "name": "python"
  }
 },
 "nbformat": 4,
 "nbformat_minor": 0
}
