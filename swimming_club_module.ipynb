{
 "cells": [
  {
   "cell_type": "code",
   "execution_count": 0,
   "metadata": {
    "application/vnd.databricks.v1+cell": {
     "cellMetadata": {
      "byteLimit": 2048000,
      "rowLimit": 10000
     },
     "inputWidgets": {},
     "nuid": "3e6442b6-68e6-4292-97b2-02bdf7264ac2",
     "showTitle": false,
     "tableResultSettingsMap": {},
     "title": ""
    }
   },
   "outputs": [],
   "source": [
    "\n",
    "def prepare_deck():\n",
    "\n",
    "    suits = [\"Heart\",\"Spade\",\"Diamond\",\"Clubs\"] # list called suits contains the suits in a standard card deck \n",
    "    Face = [\"Joker\",\"Queen\",\"King\",\"Ace\"] # list of face cards in a deck \n",
    "    numbered = ['2','3','4','5','6','7','8','9','10'] \n",
    "    # lastly the numbered cards , initally i set the list to be integers but that failed during concatination \n",
    "\n",
    "    the_deck = set()\n",
    "    for suit in suits:\n",
    "        for card in Face+numbered:\n",
    "            the_card = (card+' of '+suit) #do not support multiple types to be merged together concatination of different data types not allowed \n",
    "            if the_card in the_deck:\n",
    "                exit\n",
    "            the_deck.add(the_card)\n",
    "    return the_deck"
   ]
  },
  {
   "cell_type": "code",
   "execution_count": 0,
   "metadata": {
    "application/vnd.databricks.v1+cell": {
     "cellMetadata": {
      "byteLimit": 2048000,
      "rowLimit": 10000
     },
     "inputWidgets": {},
     "nuid": "4f00a29b-225e-452b-b4fe-7fe9b0cfae2c",
     "showTitle": false,
     "tableResultSettingsMap": {},
     "title": ""
    }
   },
   "outputs": [],
   "source": [
    "import random\n",
    "deck = list(prepare_deck())\n",
    "for _ in range(5):\n",
    "    the_card = random.choice(deck)\n",
    "    print(the_card)\n",
    "    deck.remove(the_card)"
   ]
  }
 ],
 "metadata": {
  "application/vnd.databricks.v1+notebook": {
   "computePreferences": {
    "hardware": {
     "accelerator": null,
     "gpuPoolId": null,
     "memory": null
    }
   },
   "dashboards": [],
   "environmentMetadata": {
    "base_environment": "",
    "environment_version": "3"
   },
   "inputWidgetPreferences": null,
   "language": "python",
   "notebookMetadata": {
    "pythonIndentUnit": 4
   },
   "notebookName": "swimming_club_module",
   "widgets": {}
  },
  "language_info": {
   "name": "python"
  }
 },
 "nbformat": 4,
 "nbformat_minor": 0
}
