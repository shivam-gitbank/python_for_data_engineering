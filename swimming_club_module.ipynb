{
 "cells": [
  {
   "cell_type": "code",
   "execution_count": 0,
   "metadata": {
    "application/vnd.databricks.v1+cell": {
     "cellMetadata": {
      "byteLimit": 2048000,
      "rowLimit": 10000
     },
     "inputWidgets": {},
     "nuid": "3e6442b6-68e6-4292-97b2-02bdf7264ac2",
     "showTitle": false,
     "tableResultSettingsMap": {},
     "title": ""
    }
   },
   "outputs": [],
   "source": [
    "def pick_a_card():\n",
    "\n",
    "    import random\n",
    "    suits = [\"Heart\",\"Spade\",\"Diamond\",\"Clubs\"] # list called suits contains the suits in a standard card deck \n",
    "    Face = [\"Joker\",\"Queen\",\"King\",\"Ace\"] # list of face cards in a deck \n",
    "    numbered = ['2','3','4','5','6','7','8','9','10'] \n",
    "    # lastly the numbered cards , initally i set the list to be integers but that failed during concatination \n",
    "\n",
    "    the_deck = set()\n",
    "    for suit in suits:\n",
    "        for card in Face+numbered:\n",
    "            the_card = (card+' of '+suit) #do not support multiple types to be merged together concatination of different data types not allowed \n",
    "            if the_card in the_deck:\n",
    "                exit\n",
    "            the_deck.add(the_card)\n",
    "    pop_card = random.choice(list(the_deck))\n",
    "    the_deck.remove(pop_card)\n",
    "    return pop_card,len(the_deck)\n",
    "\n",
    "\n",
    "\n",
    "\n",
    "\n",
    "\n",
    "\n",
    "\n",
    "\n"
   ]
  }
 ],
 "metadata": {
  "application/vnd.databricks.v1+notebook": {
   "computePreferences": {
    "hardware": {
     "accelerator": null,
     "gpuPoolId": null,
     "memory": null
    }
   },
   "dashboards": [],
   "environmentMetadata": {
    "base_environment": "",
    "environment_version": "3"
   },
   "inputWidgetPreferences": null,
   "language": "python",
   "notebookMetadata": {
    "pythonIndentUnit": 4
   },
   "notebookName": "swimming_club_module",
   "widgets": {}
  },
  "language_info": {
   "name": "python"
  }
 },
 "nbformat": 4,
 "nbformat_minor": 0
}
